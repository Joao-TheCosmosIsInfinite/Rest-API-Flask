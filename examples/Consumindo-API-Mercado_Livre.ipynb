{
 "cells": [
  {
   "cell_type": "markdown",
   "id": "edcfbb12",
   "metadata": {},
   "source": [
    "# Consumindo API\n",
    "\n",
    "<p>Esse notebook se destina ao consumo da API REST</p>"
   ]
  },
  {
   "cell_type": "markdown",
   "id": "25d4f964",
   "metadata": {},
   "source": [
    "## Importacoes/ Bibliotecas"
   ]
  },
  {
   "cell_type": "code",
   "execution_count": 1,
   "id": "ac195026",
   "metadata": {},
   "outputs": [],
   "source": [
    "import json\n",
    "import requests"
   ]
  },
  {
   "cell_type": "code",
   "execution_count": 23,
   "id": "4899fc0d",
   "metadata": {},
   "outputs": [],
   "source": [
    "ML_URL = 'https://api.mercadolibre.com/sites'"
   ]
  },
  {
   "cell_type": "markdown",
   "id": "aa5b24c6",
   "metadata": {},
   "source": [
    "### GET Sites"
   ]
  },
  {
   "cell_type": "code",
   "execution_count": 24,
   "id": "868f931e",
   "metadata": {},
   "outputs": [],
   "source": [
    "lista_sites = requests.request('GET', ML_URL)"
   ]
  },
  {
   "cell_type": "code",
   "execution_count": 25,
   "id": "77643712",
   "metadata": {},
   "outputs": [
    {
     "data": {
      "text/plain": [
       "<Response [200]>"
      ]
     },
     "execution_count": 25,
     "metadata": {},
     "output_type": "execute_result"
    }
   ],
   "source": [
    "lista_sites"
   ]
  },
  {
   "cell_type": "code",
   "execution_count": 26,
   "id": "617f47c8",
   "metadata": {},
   "outputs": [
    {
     "data": {
      "text/plain": [
       "[{'default_currency_id': 'CRC', 'id': 'MCR', 'name': 'Costa Rica'},\n",
       " {'default_currency_id': 'BOB', 'id': 'MBO', 'name': 'Bolivia'},\n",
       " {'default_currency_id': 'BRL', 'id': 'MLB', 'name': 'Brasil'},\n",
       " {'default_currency_id': 'CLP', 'id': 'MLC', 'name': 'Chile'},\n",
       " {'default_currency_id': 'USD', 'id': 'MEC', 'name': 'Ecuador'},\n",
       " {'default_currency_id': 'VES', 'id': 'MLV', 'name': 'Venezuela'},\n",
       " {'default_currency_id': 'COP', 'id': 'MCO', 'name': 'Colombia'},\n",
       " {'default_currency_id': 'USD', 'id': 'MSV', 'name': 'El Salvador'},\n",
       " {'default_currency_id': 'ARS', 'id': 'MLA', 'name': 'Argentina'},\n",
       " {'default_currency_id': 'MXN', 'id': 'MLM', 'name': 'Mexico'},\n",
       " {'default_currency_id': 'PEN', 'id': 'MPE', 'name': 'Perú'},\n",
       " {'default_currency_id': 'PAB', 'id': 'MPA', 'name': 'Panamá'},\n",
       " {'default_currency_id': 'HNL', 'id': 'MHN', 'name': 'Honduras'},\n",
       " {'default_currency_id': 'NIO', 'id': 'MNI', 'name': 'Nicaragua'},\n",
       " {'default_currency_id': 'DOP', 'id': 'MRD', 'name': 'Dominicana'},\n",
       " {'default_currency_id': 'CUP', 'id': 'MCU', 'name': 'Cuba'},\n",
       " {'default_currency_id': 'UYU', 'id': 'MLU', 'name': 'Uruguay'},\n",
       " {'default_currency_id': 'PYG', 'id': 'MPY', 'name': 'Paraguay'},\n",
       " {'default_currency_id': 'GTQ', 'id': 'MGT', 'name': 'Guatemala'}]"
      ]
     },
     "execution_count": 26,
     "metadata": {},
     "output_type": "execute_result"
    }
   ],
   "source": [
    "lista_sites.json()"
   ]
  },
  {
   "cell_type": "markdown",
   "id": "2b8bbe24",
   "metadata": {},
   "source": [
    "### GET Categorias"
   ]
  },
  {
   "cell_type": "code",
   "execution_count": 28,
   "id": "df465cdc",
   "metadata": {},
   "outputs": [],
   "source": [
    "ML_URL = 'https://api.mercadolibre.com/sites/MLB/categories'"
   ]
  },
  {
   "cell_type": "code",
   "execution_count": 29,
   "id": "71c1dd59",
   "metadata": {},
   "outputs": [],
   "source": [
    "lista_categorias = requests.request('GET', ML_URL)"
   ]
  },
  {
   "cell_type": "code",
   "execution_count": 30,
   "id": "6a04936a",
   "metadata": {},
   "outputs": [
    {
     "data": {
      "text/plain": [
       "<Response [200]>"
      ]
     },
     "execution_count": 30,
     "metadata": {},
     "output_type": "execute_result"
    }
   ],
   "source": [
    "lista_categorias"
   ]
  },
  {
   "cell_type": "code",
   "execution_count": 31,
   "id": "08779de1",
   "metadata": {},
   "outputs": [
    {
     "data": {
      "text/plain": [
       "[{'id': 'MLB5672', 'name': 'Acessórios para Veículos'},\n",
       " {'id': 'MLB271599', 'name': 'Agro'},\n",
       " {'id': 'MLB1403', 'name': 'Alimentos e Bebidas'},\n",
       " {'id': 'MLB1071', 'name': 'Animais'},\n",
       " {'id': 'MLB1367', 'name': 'Antiguidades e Coleções'},\n",
       " {'id': 'MLB1368', 'name': 'Arte, Papelaria e Armarinho'},\n",
       " {'id': 'MLB1384', 'name': 'Bebês'},\n",
       " {'id': 'MLB1246', 'name': 'Beleza e Cuidado Pessoal'},\n",
       " {'id': 'MLB1132', 'name': 'Brinquedos e Hobbies'},\n",
       " {'id': 'MLB1430', 'name': 'Calçados, Roupas e Bolsas'},\n",
       " {'id': 'MLB1039', 'name': 'Câmeras e Acessórios'},\n",
       " {'id': 'MLB1743', 'name': 'Carros, Motos e Outros'},\n",
       " {'id': 'MLB1574', 'name': 'Casa, Móveis e Decoração'},\n",
       " {'id': 'MLB1051', 'name': 'Celulares e Telefones'},\n",
       " {'id': 'MLB1500', 'name': 'Construção'},\n",
       " {'id': 'MLB5726', 'name': 'Eletrodomésticos'},\n",
       " {'id': 'MLB1000', 'name': 'Eletrônicos, Áudio e Vídeo'},\n",
       " {'id': 'MLB1276', 'name': 'Esportes e Fitness'},\n",
       " {'id': 'MLB263532', 'name': 'Ferramentas'},\n",
       " {'id': 'MLB12404', 'name': 'Festas e Lembrancinhas'},\n",
       " {'id': 'MLB1144', 'name': 'Games'},\n",
       " {'id': 'MLB1459', 'name': 'Imóveis'},\n",
       " {'id': 'MLB1499', 'name': 'Indústria e Comércio'},\n",
       " {'id': 'MLB1648', 'name': 'Informática'},\n",
       " {'id': 'MLB218519', 'name': 'Ingressos'},\n",
       " {'id': 'MLB1182', 'name': 'Instrumentos Musicais'},\n",
       " {'id': 'MLB3937', 'name': 'Joias e Relógios'},\n",
       " {'id': 'MLB1196', 'name': 'Livros, Revistas e Comics'},\n",
       " {'id': 'MLB1168', 'name': 'Música, Filmes e Seriados'},\n",
       " {'id': 'MLB264586', 'name': 'Saúde'},\n",
       " {'id': 'MLB1540', 'name': 'Serviços'},\n",
       " {'id': 'MLB1953', 'name': 'Mais Categorias'}]"
      ]
     },
     "execution_count": 31,
     "metadata": {},
     "output_type": "execute_result"
    }
   ],
   "source": [
    "lista_categorias.json()"
   ]
  },
  {
   "cell_type": "code",
   "execution_count": null,
   "id": "c8ec2b7d",
   "metadata": {},
   "outputs": [],
   "source": []
  }
 ],
 "metadata": {
  "kernelspec": {
   "display_name": "Python 3",
   "language": "python",
   "name": "python3"
  },
  "language_info": {
   "codemirror_mode": {
    "name": "ipython",
    "version": 3
   },
   "file_extension": ".py",
   "mimetype": "text/x-python",
   "name": "python",
   "nbconvert_exporter": "python",
   "pygments_lexer": "ipython3",
   "version": "3.8.8"
  }
 },
 "nbformat": 4,
 "nbformat_minor": 5
}
