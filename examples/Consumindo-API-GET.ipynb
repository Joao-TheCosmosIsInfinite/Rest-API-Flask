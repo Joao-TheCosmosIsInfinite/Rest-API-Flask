{
 "cells": [
  {
   "cell_type": "markdown",
   "id": "5c07ac4f",
   "metadata": {},
   "source": [
    "# Consumindo API\n",
    "\n",
    "<p>Esse notebook se destina ao consumo da API REST</p>"
   ]
  },
  {
   "cell_type": "markdown",
   "id": "c9a96aa9",
   "metadata": {},
   "source": [
    "## Importacoes/ Bibliotecas"
   ]
  },
  {
   "cell_type": "code",
   "execution_count": 1,
   "id": "c9402c24",
   "metadata": {},
   "outputs": [],
   "source": [
    "import json\n",
    "import requests"
   ]
  },
  {
   "cell_type": "code",
   "execution_count": 2,
   "id": "770162cd",
   "metadata": {},
   "outputs": [],
   "source": [
    "URL = 'http://127.0.0.1:5000'"
   ]
  },
  {
   "cell_type": "markdown",
   "id": "2f93f301",
   "metadata": {},
   "source": [
    "### GET Hoteis"
   ]
  },
  {
   "cell_type": "code",
   "execution_count": 9,
   "id": "00a57c9c",
   "metadata": {},
   "outputs": [],
   "source": [
    "resposta_hoteis = requests.request('GET', URL + '/hoteis')"
   ]
  },
  {
   "cell_type": "code",
   "execution_count": 10,
   "id": "464a2f85",
   "metadata": {},
   "outputs": [
    {
     "data": {
      "text/plain": [
       "<Response [200]>"
      ]
     },
     "execution_count": 10,
     "metadata": {},
     "output_type": "execute_result"
    }
   ],
   "source": [
    "# tipo das resposta > 200 OK\n",
    "resposta_hoteis"
   ]
  },
  {
   "cell_type": "code",
   "execution_count": 11,
   "id": "c8743272",
   "metadata": {},
   "outputs": [],
   "source": [
    "hoteis = resposta_hoteis.json()"
   ]
  },
  {
   "cell_type": "code",
   "execution_count": 12,
   "id": "83eba89d",
   "metadata": {},
   "outputs": [
    {
     "data": {
      "text/plain": [
       "[{'hotel_id': 'charlie',\n",
       "  'nome': 'Charlie Hotel',\n",
       "  'csat': 4.9,\n",
       "  'diaria': 1905.28,\n",
       "  'cidade': 'Rio de Janeiro',\n",
       "  'site_id': 2},\n",
       " {'hotel_id': 'char',\n",
       "  'nome': 'Charlie Hotel',\n",
       "  'csat': 4.9,\n",
       "  'diaria': 1905.28,\n",
       "  'cidade': 'Rio de Janeiro',\n",
       "  'site_id': 3},\n",
       " {'hotel_id': 'araguaia',\n",
       "  'nome': 'Araguaia Motel ',\n",
       "  'csat': 3.6,\n",
       "  'diaria': 90.52,\n",
       "  'cidade': 'Santa Catarina',\n",
       "  'site_id': 4},\n",
       " {'hotel_id': 'calixto',\n",
       "  'nome': 'Calixto Inn ',\n",
       "  'csat': 4.69,\n",
       "  'diaria': 900.12,\n",
       "  'cidade': 'Santa Catarina',\n",
       "  'site_id': 4},\n",
       " {'hotel_id': 'meuhotel',\n",
       "  'nome': 'Hotel Carlos Abujamra Neto',\n",
       "  'csat': 4.85,\n",
       "  'diaria': 459.52,\n",
       "  'cidade': 'Blumenal',\n",
       "  'site_id': 2},\n",
       " {'hotel_id': 'abujamra',\n",
       "  'nome': 'Hotel Carlos Abujamra Neto',\n",
       "  'csat': 4.85,\n",
       "  'diaria': 459.52,\n",
       "  'cidade': 'Blumenal',\n",
       "  'site_id': 2}]"
      ]
     },
     "execution_count": 12,
     "metadata": {},
     "output_type": "execute_result"
    }
   ],
   "source": [
    "# Verificar os hoteis\n",
    "hoteis['hoteis']"
   ]
  },
  {
   "cell_type": "code",
   "execution_count": 13,
   "id": "cfce3932",
   "metadata": {},
   "outputs": [
    {
     "data": {
      "text/plain": [
       "{'hotel_id': 'charlie',\n",
       " 'nome': 'Charlie Hotel',\n",
       " 'csat': 4.9,\n",
       " 'diaria': 1905.28,\n",
       " 'cidade': 'Rio de Janeiro',\n",
       " 'site_id': 2}"
      ]
     },
     "execution_count": 13,
     "metadata": {},
     "output_type": "execute_result"
    }
   ],
   "source": [
    "# Primeiro Hotel\n",
    "hoteis['hoteis'][0]"
   ]
  },
  {
   "cell_type": "code",
   "execution_count": 14,
   "id": "90c10a4b",
   "metadata": {},
   "outputs": [
    {
     "data": {
      "text/plain": [
       "{'hotel_id': 'abujamra',\n",
       " 'nome': 'Hotel Carlos Abujamra Neto',\n",
       " 'csat': 4.85,\n",
       " 'diaria': 459.52,\n",
       " 'cidade': 'Blumenal',\n",
       " 'site_id': 2}"
      ]
     },
     "execution_count": 14,
     "metadata": {},
     "output_type": "execute_result"
    }
   ],
   "source": [
    "# Ultimo Hotel\n",
    "hoteis['hoteis'][-1]"
   ]
  },
  {
   "cell_type": "code",
   "execution_count": 20,
   "id": "e38eff9e",
   "metadata": {},
   "outputs": [
    {
     "data": {
      "text/plain": [
       "4"
      ]
     },
     "execution_count": 20,
     "metadata": {},
     "output_type": "execute_result"
    }
   ],
   "source": [
    "# Quantidade de elementos/ hoteis na lista\n",
    "len(hoteis['hoteis'])"
   ]
  },
  {
   "cell_type": "code",
   "execution_count": 21,
   "id": "b240cd64",
   "metadata": {},
   "outputs": [],
   "source": [
    "# Adicionando os hoteis a uma lista\n",
    "lista_hoteis = hoteis['hoteis']"
   ]
  },
  {
   "cell_type": "code",
   "execution_count": 22,
   "id": "11280d83",
   "metadata": {},
   "outputs": [
    {
     "name": "stdout",
     "output_type": "stream",
     "text": [
      "Charlie Hotel\n",
      "Charlie Hotel\n",
      "Araguaia Motel \n",
      "Calixto Inn \n"
     ]
    }
   ],
   "source": [
    "# Captar o nome dos hoteis\n",
    "for hotel in lista_hoteis:\n",
    "    print(hotel['nome'])"
   ]
  }
 ],
 "metadata": {
  "kernelspec": {
   "display_name": "Python 3",
   "language": "python",
   "name": "python3"
  },
  "language_info": {
   "codemirror_mode": {
    "name": "ipython",
    "version": 3
   },
   "file_extension": ".py",
   "mimetype": "text/x-python",
   "name": "python",
   "nbconvert_exporter": "python",
   "pygments_lexer": "ipython3",
   "version": "3.8.8"
  }
 },
 "nbformat": 4,
 "nbformat_minor": 5
}
